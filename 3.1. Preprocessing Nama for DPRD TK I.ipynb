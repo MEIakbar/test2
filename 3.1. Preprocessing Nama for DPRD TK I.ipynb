{
 "cells": [
  {
   "cell_type": "code",
   "execution_count": 1,
   "metadata": {},
   "outputs": [],
   "source": [
    "import os\n",
    "import glob\n",
    "import pandas as pd\n",
    "import numpy as np\n",
    "from tqdm import tqdm"
   ]
  },
  {
   "cell_type": "code",
   "execution_count": 2,
   "metadata": {},
   "outputs": [
    {
     "data": {
      "text/plain": [
       "29"
      ]
     },
     "execution_count": 2,
     "metadata": {},
     "output_type": "execute_result"
    }
   ],
   "source": [
    "source_path = \"./All/DPRD TK I/*.csv\"\n",
    "files = glob.glob(source_path)\n",
    "len(files)"
   ]
  },
  {
   "cell_type": "code",
   "execution_count": 3,
   "metadata": {},
   "outputs": [],
   "source": [
    "# def save_data(file):\n",
    "#     df = pd.read_csv(file)\n",
    "#     name = file.split(\"\\\\\")[1].split(\".cs\")[0]\n",
    "#     df.to_excel(\"All/DPRD TK I/clean_data/{}.xlsx\".format(name), index=False)\n",
    "#     print(\"sucess...\")"
   ]
  },
  {
   "cell_type": "code",
   "execution_count": 4,
   "metadata": {
    "scrolled": true
   },
   "outputs": [],
   "source": [
    "# for idx,file in enumerate(files):\n",
    "#     df = pd.read_csv(file)\n",
    "#     if idx == 1:\n",
    "#         cols = [\"Nama\", \"Partai Politik\", \"DaerahPemilihan\", \"Fraksi\", \"SuaraSah\", \"Keterangan\"]\n",
    "#         df = df[cols]\n",
    "#     else:\n",
    "#         df = df.rename(columns={\"nama\" : \"Nama\"})\n",
    "#         df = df.rename(columns={\"Anggota\" : \"Nama\"})\n",
    "#         df = df.rename(columns={\"Nama Anggota\" : \"Nama\"})\n",
    "#         df = df.rename(columns={\"Nama Lengkap\" : \"Nama\"})\n",
    "#     name = file.split(\"\\\\\")[1].split(\".cs\")[0]\n",
    "#     df.to_excel(\"All/DPRD TK I/clean_data/{}.xlsx\".format(name), index=False)\n",
    "# #     display(df.head())    \n",
    "# #     save_data(file)"
   ]
  },
  {
   "cell_type": "code",
   "execution_count": null,
   "metadata": {},
   "outputs": [],
   "source": []
  },
  {
   "cell_type": "markdown",
   "metadata": {},
   "source": [
    "# Concat nama column "
   ]
  },
  {
   "cell_type": "code",
   "execution_count": 68,
   "metadata": {},
   "outputs": [],
   "source": [
    "source_path = \"./All/DPRD TK I/clean_data/*.xlsx\"\n",
    "files = glob.glob(source_path)"
   ]
  },
  {
   "cell_type": "code",
   "execution_count": 69,
   "metadata": {},
   "outputs": [
    {
     "name": "stderr",
     "output_type": "stream",
     "text": [
      "100%|██████████████████████████████████████████████████████████████████████████████████| 29/29 [00:00<00:00, 43.20it/s]\n"
     ]
    },
    {
     "data": {
      "text/plain": [
       "29"
      ]
     },
     "execution_count": 69,
     "metadata": {},
     "output_type": "execute_result"
    }
   ],
   "source": [
    "li = []\n",
    "for file in tqdm(files):\n",
    "    df = pd.read_excel(file)\n",
    "    df = df [[\"Nama\"]]\n",
    "    li.append(df)\n",
    "len(li)"
   ]
  },
  {
   "cell_type": "code",
   "execution_count": 70,
   "metadata": {},
   "outputs": [
    {
     "data": {
      "text/html": [
       "<div>\n",
       "<style scoped>\n",
       "    .dataframe tbody tr th:only-of-type {\n",
       "        vertical-align: middle;\n",
       "    }\n",
       "\n",
       "    .dataframe tbody tr th {\n",
       "        vertical-align: top;\n",
       "    }\n",
       "\n",
       "    .dataframe thead th {\n",
       "        text-align: right;\n",
       "    }\n",
       "</style>\n",
       "<table border=\"1\" class=\"dataframe\">\n",
       "  <thead>\n",
       "    <tr style=\"text-align: right;\">\n",
       "      <th></th>\n",
       "      <th>Nama</th>\n",
       "    </tr>\n",
       "  </thead>\n",
       "  <tbody>\n",
       "    <tr>\n",
       "      <th>0</th>\n",
       "      <td>anak agung gede agung suyoga</td>\n",
       "    </tr>\n",
       "    <tr>\n",
       "      <th>1</th>\n",
       "      <td>ni wayan sari galung</td>\n",
       "    </tr>\n",
       "    <tr>\n",
       "      <th>2</th>\n",
       "      <td>i gusti putu budiarta</td>\n",
       "    </tr>\n",
       "    <tr>\n",
       "      <th>3</th>\n",
       "      <td>i wayan kariarta</td>\n",
       "    </tr>\n",
       "    <tr>\n",
       "      <th>4</th>\n",
       "      <td>anak agung ngurah adhi ardhana</td>\n",
       "    </tr>\n",
       "    <tr>\n",
       "      <th>...</th>\n",
       "      <td>...</td>\n",
       "    </tr>\n",
       "    <tr>\n",
       "      <th>2056</th>\n",
       "      <td>ir. widi sutikno. m.si.</td>\n",
       "    </tr>\n",
       "    <tr>\n",
       "      <th>2057</th>\n",
       "      <td>heri dwi haryono, s,h,</td>\n",
       "    </tr>\n",
       "    <tr>\n",
       "      <th>2058</th>\n",
       "      <td>hj. erlia risti, se.</td>\n",
       "    </tr>\n",
       "    <tr>\n",
       "      <th>2059</th>\n",
       "      <td>h. muhammad yazid, s.ag</td>\n",
       "    </tr>\n",
       "    <tr>\n",
       "      <th>2060</th>\n",
       "      <td>dr. stevanus christian handoko, s.kom., mm.</td>\n",
       "    </tr>\n",
       "  </tbody>\n",
       "</table>\n",
       "<p>2061 rows × 1 columns</p>\n",
       "</div>"
      ],
      "text/plain": [
       "                                             Nama\n",
       "0                    anak agung gede agung suyoga\n",
       "1                            ni wayan sari galung\n",
       "2                           i gusti putu budiarta\n",
       "3                                i wayan kariarta\n",
       "4                  anak agung ngurah adhi ardhana\n",
       "...                                           ...\n",
       "2056                      ir. widi sutikno. m.si.\n",
       "2057                       heri dwi haryono, s,h,\n",
       "2058                         hj. erlia risti, se.\n",
       "2059                      h. muhammad yazid, s.ag\n",
       "2060  dr. stevanus christian handoko, s.kom., mm.\n",
       "\n",
       "[2061 rows x 1 columns]"
      ]
     },
     "execution_count": 70,
     "metadata": {},
     "output_type": "execute_result"
    }
   ],
   "source": [
    "df_nama = pd.concat(li).reset_index(drop=True)\n",
    "df_nama[\"Nama\"] = df_nama[\"Nama\"].str.lower()\n",
    "df_nama"
   ]
  },
  {
   "cell_type": "code",
   "execution_count": 71,
   "metadata": {},
   "outputs": [],
   "source": [
    "df_nama.to_excel(\"dummy_dprd_1_nama.xlsx\", index=False)"
   ]
  },
  {
   "cell_type": "markdown",
   "metadata": {},
   "source": [
    "# Filter"
   ]
  },
  {
   "cell_type": "code",
   "execution_count": 20,
   "metadata": {},
   "outputs": [
    {
     "data": {
      "text/html": [
       "<div>\n",
       "<style scoped>\n",
       "    .dataframe tbody tr th:only-of-type {\n",
       "        vertical-align: middle;\n",
       "    }\n",
       "\n",
       "    .dataframe tbody tr th {\n",
       "        vertical-align: top;\n",
       "    }\n",
       "\n",
       "    .dataframe thead th {\n",
       "        text-align: right;\n",
       "    }\n",
       "</style>\n",
       "<table border=\"1\" class=\"dataframe\">\n",
       "  <thead>\n",
       "    <tr style=\"text-align: right;\">\n",
       "      <th></th>\n",
       "      <th>Nama</th>\n",
       "    </tr>\n",
       "  </thead>\n",
       "  <tbody>\n",
       "    <tr>\n",
       "      <th>0</th>\n",
       "      <td>anak agung gede agung suyoga</td>\n",
       "    </tr>\n",
       "    <tr>\n",
       "      <th>1</th>\n",
       "      <td>ni wayan sari galung</td>\n",
       "    </tr>\n",
       "    <tr>\n",
       "      <th>2</th>\n",
       "      <td>i gusti putu budiarta</td>\n",
       "    </tr>\n",
       "    <tr>\n",
       "      <th>3</th>\n",
       "      <td>i wayan kariarta</td>\n",
       "    </tr>\n",
       "    <tr>\n",
       "      <th>4</th>\n",
       "      <td>anak agung ngurah adhi ardhana</td>\n",
       "    </tr>\n",
       "    <tr>\n",
       "      <th>...</th>\n",
       "      <td>...</td>\n",
       "    </tr>\n",
       "    <tr>\n",
       "      <th>2056</th>\n",
       "      <td>widi sutikno</td>\n",
       "    </tr>\n",
       "    <tr>\n",
       "      <th>2057</th>\n",
       "      <td>heri dwi haryono  s</td>\n",
       "    </tr>\n",
       "    <tr>\n",
       "      <th>2058</th>\n",
       "      <td>erlia risti</td>\n",
       "    </tr>\n",
       "    <tr>\n",
       "      <th>2059</th>\n",
       "      <td>muhammad yazid</td>\n",
       "    </tr>\n",
       "    <tr>\n",
       "      <th>2060</th>\n",
       "      <td>evanus christian handoko</td>\n",
       "    </tr>\n",
       "  </tbody>\n",
       "</table>\n",
       "<p>2061 rows × 1 columns</p>\n",
       "</div>"
      ],
      "text/plain": [
       "                                   Nama\n",
       "0         anak agung gede agung suyoga \n",
       "1                 ni wayan sari galung \n",
       "2                i gusti putu budiarta \n",
       "3                     i wayan kariarta \n",
       "4       anak agung ngurah adhi ardhana \n",
       "...                                 ...\n",
       "2056                   widi sutikno    \n",
       "2057              heri dwi haryono  s  \n",
       "2058                    erlia risti    \n",
       "2059                  muhammad yazid   \n",
       "2060     evanus christian handoko      \n",
       "\n",
       "[2061 rows x 1 columns]"
      ]
     },
     "execution_count": 20,
     "metadata": {},
     "output_type": "execute_result"
    }
   ],
   "source": [
    "df_nama = pd.read_excel(\"./DPRD TK I/dummy_dprd_1_nama.xlsx\")\n",
    "df_nama"
   ]
  },
  {
   "cell_type": "code",
   "execution_count": 21,
   "metadata": {},
   "outputs": [],
   "source": [
    "df_nama[\"Nama\"] = df_nama[\"Nama\"].str.rjust(1, \" \")\n",
    "df_nama[\"Nama\"] = df_nama[\"Nama\"].str.replace(\",\", \" \")\n",
    "df_nama[\"Nama\"] = df_nama[\"Nama\"].str.replace(\".\", \" \")\n",
    "df_nama[\"Nama\"] = df_nama[\"Nama\"].str.replace(\"(\", \"\")\n",
    "df_nama[\"Nama\"] = df_nama[\"Nama\"].str.replace(\")\", \"\")"
   ]
  },
  {
   "cell_type": "code",
   "execution_count": 22,
   "metadata": {},
   "outputs": [],
   "source": [
    "df_nama['Nama'] = ' ' + df_nama['Nama'].astype(str)\n",
    "df_nama['Nama'] = df_nama['Nama'].astype(str) + \" \""
   ]
  },
  {
   "cell_type": "code",
   "execution_count": 23,
   "metadata": {},
   "outputs": [
    {
     "data": {
      "text/html": [
       "<div>\n",
       "<style scoped>\n",
       "    .dataframe tbody tr th:only-of-type {\n",
       "        vertical-align: middle;\n",
       "    }\n",
       "\n",
       "    .dataframe tbody tr th {\n",
       "        vertical-align: top;\n",
       "    }\n",
       "\n",
       "    .dataframe thead th {\n",
       "        text-align: right;\n",
       "    }\n",
       "</style>\n",
       "<table border=\"1\" class=\"dataframe\">\n",
       "  <thead>\n",
       "    <tr style=\"text-align: right;\">\n",
       "      <th></th>\n",
       "      <th>Nama</th>\n",
       "    </tr>\n",
       "  </thead>\n",
       "  <tbody>\n",
       "    <tr>\n",
       "      <th>73</th>\n",
       "      <td>m  imron rosyadi</td>\n",
       "    </tr>\n",
       "  </tbody>\n",
       "</table>\n",
       "</div>"
      ],
      "text/plain": [
       "                       Nama\n",
       "73     m  imron rosyadi    "
      ]
     },
     "execution_count": 23,
     "metadata": {},
     "output_type": "execute_result"
    }
   ],
   "source": [
    "df_nama.loc[[73]]"
   ]
  },
  {
   "cell_type": "code",
   "execution_count": null,
   "metadata": {},
   "outputs": [],
   "source": [
    "dr agus"
   ]
  },
  {
   "cell_type": "code",
   "execution_count": null,
   "metadata": {},
   "outputs": [],
   "source": [
    "\" s ag \" --> dans agus\n",
    "dan us"
   ]
  },
  {
   "cell_type": "code",
   "execution_count": 24,
   "metadata": {},
   "outputs": [
    {
     "data": {
      "text/html": [
       "<div>\n",
       "<style scoped>\n",
       "    .dataframe tbody tr th:only-of-type {\n",
       "        vertical-align: middle;\n",
       "    }\n",
       "\n",
       "    .dataframe tbody tr th {\n",
       "        vertical-align: top;\n",
       "    }\n",
       "\n",
       "    .dataframe thead th {\n",
       "        text-align: right;\n",
       "    }\n",
       "</style>\n",
       "<table border=\"1\" class=\"dataframe\">\n",
       "  <thead>\n",
       "    <tr style=\"text-align: right;\">\n",
       "      <th></th>\n",
       "      <th>Nama</th>\n",
       "    </tr>\n",
       "  </thead>\n",
       "  <tbody>\n",
       "    <tr>\n",
       "      <th>0</th>\n",
       "      <td>anak agung gede agung suyoga</td>\n",
       "    </tr>\n",
       "    <tr>\n",
       "      <th>1</th>\n",
       "      <td>ni wayan sari galung</td>\n",
       "    </tr>\n",
       "    <tr>\n",
       "      <th>2</th>\n",
       "      <td>i gusti putu budiarta</td>\n",
       "    </tr>\n",
       "    <tr>\n",
       "      <th>3</th>\n",
       "      <td>i wayan kariarta</td>\n",
       "    </tr>\n",
       "    <tr>\n",
       "      <th>4</th>\n",
       "      <td>anak agung ngurah adhi ardhana</td>\n",
       "    </tr>\n",
       "    <tr>\n",
       "      <th>...</th>\n",
       "      <td>...</td>\n",
       "    </tr>\n",
       "    <tr>\n",
       "      <th>2056</th>\n",
       "      <td>widi sutikno</td>\n",
       "    </tr>\n",
       "    <tr>\n",
       "      <th>2057</th>\n",
       "      <td>heri dwi haryono  s</td>\n",
       "    </tr>\n",
       "    <tr>\n",
       "      <th>2058</th>\n",
       "      <td>erlia risti</td>\n",
       "    </tr>\n",
       "    <tr>\n",
       "      <th>2059</th>\n",
       "      <td>muhammad yazid</td>\n",
       "    </tr>\n",
       "    <tr>\n",
       "      <th>2060</th>\n",
       "      <td>evanus christian handoko</td>\n",
       "    </tr>\n",
       "  </tbody>\n",
       "</table>\n",
       "<p>2061 rows × 1 columns</p>\n",
       "</div>"
      ],
      "text/plain": [
       "                                     Nama\n",
       "0          anak agung gede agung suyoga  \n",
       "1                  ni wayan sari galung  \n",
       "2                 i gusti putu budiarta  \n",
       "3                      i wayan kariarta  \n",
       "4        anak agung ngurah adhi ardhana  \n",
       "...                                   ...\n",
       "2056                    widi sutikno     \n",
       "2057               heri dwi haryono  s   \n",
       "2058                     erlia risti     \n",
       "2059                   muhammad yazid    \n",
       "2060      evanus christian handoko       \n",
       "\n",
       "[2061 rows x 1 columns]"
      ]
     },
     "execution_count": 24,
     "metadata": {},
     "output_type": "execute_result"
    }
   ],
   "source": [
    "list_filter = [\" s h i \", \" s h m kn \", \" stp \", \" s pd i \", \" s sos i \", \" sh i \", \" s psi \", \" 2019-2020 \", \" belum diusulkan \", \" belum ditetapkan \", \" h \", \" s pd \", \" sh \",\n",
    "                \" mh \", \" se \", \" si kom \", \" m kom \", \" s ag \", \" ir \", \" s si \", \" m si \", \" s ip \", \" mm \", \" ba \", \" m ag \", \" apt \", \" s a p \", \" sm hk \", \" s ab \",\n",
    "                \" s i kom \", \" m sc \", \" drs \", \" hj \", \" kh \", \" m m \", \" sp m \", \" mayjen tni purn \", \" stp \", \" s tp \", \" s kom \", \" lc \", \" skm \", \" ss \", \" mt \",\n",
    "                \" dr \", \" ak mm \", \" s sos \", \" s sos i \", \" sp og \", \" se \", \" m ec dev \", \" s ap \", \" msi \", \" skom \", \" spsi \", \" bcomm \",\n",
    "              \" s m m si \", \" s sos i \", \"  ll ciarb \", \" s p \", \" cpa ma \", \" st \", \":\", \" am kep \", \" s pd i \", \" s ikom \", \" m hum \",\n",
    "              \" s ap \", \" m pd \", \"<br/ketua dprd\", \"<br/wakil ketua 2\", \"<br/wakil ketua 1\", \"<br/wakil ketua 3 \",\n",
    "              \" msi  ak \", \" b comm \", \" lc ma \", \" b buss \", \" dra \", \" a md \", \" s h\", \" spd \" ]\n",
    "\n",
    "filter_str = '|'.join(list_filter)\n",
    "df_nama['Nama'] = df_nama['Nama'].str.replace(filter_str, ' ')\n",
    "df_nama"
   ]
  },
  {
   "cell_type": "code",
   "execution_count": null,
   "metadata": {},
   "outputs": [],
   "source": []
  },
  {
   "cell_type": "code",
   "execution_count": 25,
   "metadata": {},
   "outputs": [],
   "source": [
    "# df_nama.to_excel(\"./DPRD TK I/dummy_dprd_1_nama.xlsx\", index=False)"
   ]
  },
  {
   "cell_type": "markdown",
   "metadata": {},
   "source": [
    "# Preparation for tanggal lahir, tempat lahir, alamat"
   ]
  },
  {
   "cell_type": "code",
   "execution_count": null,
   "metadata": {},
   "outputs": [],
   "source": [
    "gelar_depan = [\"h \", \"hj \", \"h. \", \"hj. \", \"prof \", \"drs \", \"drs. \", \"prof. \", \"dr.\", \"dr \", \"ir. \", \"ir \", \"prof.\"]\n",
    "gelar_militer = [\"letjen\", \"mayjen\", \"brigen\"]"
   ]
  },
  {
   "cell_type": "code",
   "execution_count": 15,
   "metadata": {},
   "outputs": [],
   "source": [
    "source_path = \"./All/DPRD TK I/clean_data/*.xlsx\"\n",
    "files = glob.glob(source_path)"
   ]
  },
  {
   "cell_type": "code",
   "execution_count": 20,
   "metadata": {},
   "outputs": [
    {
     "name": "stdout",
     "output_type": "stream",
     "text": [
      "./All/DPRD TK I/clean_data\\DKI_Jakarta.xlsx\n"
     ]
    },
    {
     "data": {
      "text/html": [
       "<div>\n",
       "<style scoped>\n",
       "    .dataframe tbody tr th:only-of-type {\n",
       "        vertical-align: middle;\n",
       "    }\n",
       "\n",
       "    .dataframe tbody tr th {\n",
       "        vertical-align: top;\n",
       "    }\n",
       "\n",
       "    .dataframe thead th {\n",
       "        text-align: right;\n",
       "    }\n",
       "</style>\n",
       "<table border=\"1\" class=\"dataframe\">\n",
       "  <thead>\n",
       "    <tr style=\"text-align: right;\">\n",
       "      <th></th>\n",
       "      <th>Nama</th>\n",
       "      <th>list_lahir</th>\n",
       "    </tr>\n",
       "  </thead>\n",
       "  <tbody>\n",
       "    <tr>\n",
       "      <th>0</th>\n",
       "      <td>h mohammad arifin</td>\n",
       "      <td>Tempat/tgl. lahir: Jakarta, 21 Oktober 1963</td>\n",
       "    </tr>\n",
       "    <tr>\n",
       "      <th>1</th>\n",
       "      <td>yusriah dzinnun s pd</td>\n",
       "      <td>Tempat/tgl. lahir:Jakarta, 23 Maret 1970</td>\n",
       "    </tr>\n",
       "    <tr>\n",
       "      <th>2</th>\n",
       "      <td>justin adrian untayana sh mh</td>\n",
       "      <td>Tempat/tgl. lahir: Jakarta, 3 Juli 1980</td>\n",
       "    </tr>\n",
       "    <tr>\n",
       "      <th>3</th>\n",
       "      <td>h jamaluddin lamanda sh mh</td>\n",
       "      <td>Tempat/tgl. lahir: Tolitoli, 5 Mei 1970</td>\n",
       "    </tr>\n",
       "    <tr>\n",
       "      <th>4</th>\n",
       "      <td>h lukmanul hakim se</td>\n",
       "      <td>Tempat/tgl. lahir: Jakarta, 11 Oktober 1975</td>\n",
       "    </tr>\n",
       "    <tr>\n",
       "      <th>...</th>\n",
       "      <td>...</td>\n",
       "      <td>...</td>\n",
       "    </tr>\n",
       "    <tr>\n",
       "      <th>101</th>\n",
       "      <td>h iman satria</td>\n",
       "      <td>Tempat/tgl. lahir:Jakarta, 7 Juli 1963</td>\n",
       "    </tr>\n",
       "    <tr>\n",
       "      <th>102</th>\n",
       "      <td>hj zita anjani s sos m sc</td>\n",
       "      <td>Tempat/tgl. lahir:Jakarta, 12 Maret 1990</td>\n",
       "    </tr>\n",
       "    <tr>\n",
       "      <th>103</th>\n",
       "      <td>dr ir h rasyidi hy mm cpa ma</td>\n",
       "      <td>Tempat/tgl. lahir:P. Beringin, 10 November 1951</td>\n",
       "    </tr>\n",
       "    <tr>\n",
       "      <th>104</th>\n",
       "      <td>h ismail s pd</td>\n",
       "      <td>Tempat/tgl. lahir:Jakarta, 31 Januari 1972</td>\n",
       "    </tr>\n",
       "    <tr>\n",
       "      <th>105</th>\n",
       "      <td>pandapotan sinaga se mm</td>\n",
       "      <td>Tempat/tgl. lahir:Pematang Siantar, 11 Oktober...</td>\n",
       "    </tr>\n",
       "  </tbody>\n",
       "</table>\n",
       "<p>106 rows × 2 columns</p>\n",
       "</div>"
      ],
      "text/plain": [
       "                             Nama  \\\n",
       "0               h mohammad arifin   \n",
       "1            yusriah dzinnun s pd   \n",
       "2    justin adrian untayana sh mh   \n",
       "3      h jamaluddin lamanda sh mh   \n",
       "4             h lukmanul hakim se   \n",
       "..                            ...   \n",
       "101                 h iman satria   \n",
       "102     hj zita anjani s sos m sc   \n",
       "103  dr ir h rasyidi hy mm cpa ma   \n",
       "104                 h ismail s pd   \n",
       "105       pandapotan sinaga se mm   \n",
       "\n",
       "                                            list_lahir  \n",
       "0          Tempat/tgl. lahir: Jakarta, 21 Oktober 1963  \n",
       "1             Tempat/tgl. lahir:Jakarta, 23 Maret 1970  \n",
       "2              Tempat/tgl. lahir: Jakarta, 3 Juli 1980  \n",
       "3              Tempat/tgl. lahir: Tolitoli, 5 Mei 1970  \n",
       "4          Tempat/tgl. lahir: Jakarta, 11 Oktober 1975  \n",
       "..                                                 ...  \n",
       "101             Tempat/tgl. lahir:Jakarta, 7 Juli 1963  \n",
       "102           Tempat/tgl. lahir:Jakarta, 12 Maret 1990  \n",
       "103    Tempat/tgl. lahir:P. Beringin, 10 November 1951  \n",
       "104         Tempat/tgl. lahir:Jakarta, 31 Januari 1972  \n",
       "105  Tempat/tgl. lahir:Pematang Siantar, 11 Oktober...  \n",
       "\n",
       "[106 rows x 2 columns]"
      ]
     },
     "execution_count": 20,
     "metadata": {},
     "output_type": "execute_result"
    }
   ],
   "source": [
    "file = files[2] \n",
    "print(file)\n",
    "df = pd.read_excel(file)\n",
    "df"
   ]
  },
  {
   "cell_type": "code",
   "execution_count": 22,
   "metadata": {},
   "outputs": [
    {
     "data": {
      "text/plain": [
       "'Tempat/tgl. lahir: Jakarta, 21 Oktober 1963'"
      ]
     },
     "execution_count": 22,
     "metadata": {},
     "output_type": "execute_result"
    }
   ],
   "source": [
    "df[\"list_lahir\"][0]"
   ]
  },
  {
   "cell_type": "code",
   "execution_count": 34,
   "metadata": {},
   "outputs": [],
   "source": [
    "def get_ttl(x):\n",
    "    print(x)\n",
    "    ttl = x.split(\":\")[1]\n",
    "    tempat = ttl.split(\",\")[0]\n",
    "    tanggal = ttl.split(\",\")[1]\n",
    "    \n",
    "    return tempat, tanggal"
   ]
  },
  {
   "cell_type": "code",
   "execution_count": 35,
   "metadata": {},
   "outputs": [
    {
     "name": "stdout",
     "output_type": "stream",
     "text": [
      "Tempat/tgl. lahir: Jakarta, 21 Oktober 1963\n",
      "Tempat/tgl. lahir:Jakarta, 23 Maret 1970\n",
      "Tempat/tgl. lahir: Jakarta, 3 Juli 1980\n",
      "Tempat/tgl. lahir: Tolitoli, 5 Mei 1970\n",
      "Tempat/tgl. lahir: Jakarta, 11 Oktober 1975\n",
      "Tempat/tgl. lahir:Medan, 21 Oktober 1962\n",
      "Tempat/tgl. lahir:Jakarta, 23 Juli 1992\n",
      "Tempat/tgl. lahir:Surabaya, 25 November 1985\n",
      "Tempat/tgl. lahir:Jakarta, 8 Maret 1974\n",
      "Tempat/tgl. lahir:Jakarta, 2 Mei 1996\n",
      "Tempat/tgl. lahir: Tanjung Pandan, 22 Mei 1987\n",
      "Tempat/tgl. lahir: Jakarta, 7 Juli 1971\n",
      "Tempat/tgl. lahir: Jakarta, 3 Januari 1957\n",
      "Tempat/tgl. lahir: Jakarta, 19 Juni 1991\n",
      "Tempat/tgl. lahir: Jakarta, 10 Maret 1970\n",
      "Tempat/tgl. lahir: Jakarta, 6 Maret 1979\n",
      "Tempat/tgl. lahir: Pandeglang, 21 April 1979\n",
      "Tempat/tgl. lahir:Bandung, 6 September 1967\n",
      "Tempat/tgl. lahir:Jakarta, 30 Mei 1973\n",
      "Tempat/tgl. lahir:Jakarta, 28 April 1968\n",
      "Tempat/tgl. lahir:Jakarta, 23 Juni 1991\n",
      "Tempat/tgl. lahir:Jakarta, 11 November 1976\n",
      "Tempat/tgl. lahir: Jakarta, 16 Agustus 1968\n",
      "Tempat/tgl. lahir: Makasar, 16 Agustus 1970\n",
      "Tempat/tgl. lahir: Jakarta, 25 Februari 1972\n",
      "Tempat/tgl. lahir:Jakarta, 8 Mei 1989\n",
      "Tempat/tgl. lahir:Jakarta\n"
     ]
    },
    {
     "ename": "IndexError",
     "evalue": "list index out of range",
     "output_type": "error",
     "traceback": [
      "\u001b[1;31m---------------------------------------------------------------------------\u001b[0m",
      "\u001b[1;31mIndexError\u001b[0m                                Traceback (most recent call last)",
      "\u001b[1;32m<ipython-input-35-403ad863ab33>\u001b[0m in \u001b[0;36m<module>\u001b[1;34m\u001b[0m\n\u001b[0;32m      3\u001b[0m \u001b[1;33m\u001b[0m\u001b[0m\n\u001b[0;32m      4\u001b[0m \u001b[1;32mfor\u001b[0m \u001b[0midx\u001b[0m \u001b[1;32min\u001b[0m \u001b[0mrange\u001b[0m\u001b[1;33m(\u001b[0m\u001b[0mdf\u001b[0m\u001b[1;33m.\u001b[0m\u001b[0mshape\u001b[0m\u001b[1;33m[\u001b[0m\u001b[1;36m0\u001b[0m\u001b[1;33m]\u001b[0m\u001b[1;33m)\u001b[0m\u001b[1;33m:\u001b[0m\u001b[1;33m\u001b[0m\u001b[0m\n\u001b[1;32m----> 5\u001b[1;33m     \u001b[0mtempat\u001b[0m\u001b[1;33m,\u001b[0m \u001b[0mtanggal\u001b[0m \u001b[1;33m=\u001b[0m \u001b[0mget_ttl\u001b[0m\u001b[1;33m(\u001b[0m\u001b[0mdf\u001b[0m\u001b[1;33m[\u001b[0m\u001b[1;34m\"list_lahir\"\u001b[0m\u001b[1;33m]\u001b[0m\u001b[1;33m[\u001b[0m\u001b[0midx\u001b[0m\u001b[1;33m]\u001b[0m\u001b[1;33m)\u001b[0m\u001b[1;33m\u001b[0m\u001b[0m\n\u001b[0m\u001b[0;32m      6\u001b[0m     \u001b[0mlist_tempat\u001b[0m\u001b[1;33m.\u001b[0m\u001b[0mappend\u001b[0m\u001b[1;33m(\u001b[0m\u001b[0mtempat\u001b[0m\u001b[1;33m)\u001b[0m\u001b[1;33m\u001b[0m\u001b[0m\n\u001b[0;32m      7\u001b[0m     \u001b[0mlist_tanggal\u001b[0m\u001b[1;33m.\u001b[0m\u001b[0mappend\u001b[0m\u001b[1;33m(\u001b[0m\u001b[0mtanggal\u001b[0m\u001b[1;33m)\u001b[0m\u001b[1;33m\u001b[0m\u001b[0m\n",
      "\u001b[1;32m<ipython-input-34-09d6935d59ad>\u001b[0m in \u001b[0;36mget_ttl\u001b[1;34m(x)\u001b[0m\n\u001b[0;32m      3\u001b[0m     \u001b[0mttl\u001b[0m \u001b[1;33m=\u001b[0m \u001b[0mx\u001b[0m\u001b[1;33m.\u001b[0m\u001b[0msplit\u001b[0m\u001b[1;33m(\u001b[0m\u001b[1;34m\":\"\u001b[0m\u001b[1;33m)\u001b[0m\u001b[1;33m[\u001b[0m\u001b[1;36m1\u001b[0m\u001b[1;33m]\u001b[0m\u001b[1;33m\u001b[0m\u001b[0m\n\u001b[0;32m      4\u001b[0m     \u001b[0mtempat\u001b[0m \u001b[1;33m=\u001b[0m \u001b[0mttl\u001b[0m\u001b[1;33m.\u001b[0m\u001b[0msplit\u001b[0m\u001b[1;33m(\u001b[0m\u001b[1;34m\",\"\u001b[0m\u001b[1;33m)\u001b[0m\u001b[1;33m[\u001b[0m\u001b[1;36m0\u001b[0m\u001b[1;33m]\u001b[0m\u001b[1;33m\u001b[0m\u001b[0m\n\u001b[1;32m----> 5\u001b[1;33m     \u001b[0mtanggal\u001b[0m \u001b[1;33m=\u001b[0m \u001b[0mttl\u001b[0m\u001b[1;33m.\u001b[0m\u001b[0msplit\u001b[0m\u001b[1;33m(\u001b[0m\u001b[1;34m\",\"\u001b[0m\u001b[1;33m)\u001b[0m\u001b[1;33m[\u001b[0m\u001b[1;36m1\u001b[0m\u001b[1;33m]\u001b[0m\u001b[1;33m\u001b[0m\u001b[0m\n\u001b[0m\u001b[0;32m      6\u001b[0m \u001b[1;33m\u001b[0m\u001b[0m\n\u001b[0;32m      7\u001b[0m     \u001b[1;32mreturn\u001b[0m \u001b[0mtempat\u001b[0m\u001b[1;33m,\u001b[0m \u001b[0mtanggal\u001b[0m\u001b[1;33m\u001b[0m\u001b[0m\n",
      "\u001b[1;31mIndexError\u001b[0m: list index out of range"
     ]
    }
   ],
   "source": [
    "list_tempat = []\n",
    "list_tanggal = []\n",
    "\n",
    "for idx in range(df.shape[0]):\n",
    "    tempat, tanggal = get_ttl(df[\"list_lahir\"][idx])\n",
    "    list_tempat.append(tempat)\n",
    "    list_tanggal.append(tanggal)"
   ]
  },
  {
   "cell_type": "code",
   "execution_count": null,
   "metadata": {},
   "outputs": [],
   "source": []
  }
 ],
 "metadata": {
  "kernelspec": {
   "display_name": "Python 3 (ipykernel)",
   "language": "python",
   "name": "python3"
  },
  "language_info": {
   "codemirror_mode": {
    "name": "ipython",
    "version": 3
   },
   "file_extension": ".py",
   "mimetype": "text/x-python",
   "name": "python",
   "nbconvert_exporter": "python",
   "pygments_lexer": "ipython3",
   "version": "3.8.10"
  }
 },
 "nbformat": 4,
 "nbformat_minor": 4
}
